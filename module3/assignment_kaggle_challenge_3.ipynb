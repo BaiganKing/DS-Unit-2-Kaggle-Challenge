{
  "nbformat": 4,
  "nbformat_minor": 0,
  "metadata": {
    "colab": {
      "name": "assignment_kaggle_challenge_3.ipynb",
      "provenance": [],
      "collapsed_sections": [],
      "include_colab_link": true
    },
    "kernelspec": {
      "name": "python3",
      "display_name": "Python 3"
    }
  },
  "cells": [
    {
      "cell_type": "markdown",
      "metadata": {
        "id": "view-in-github",
        "colab_type": "text"
      },
      "source": [
        "<a href=\"https://colab.research.google.com/github/BaiganKing/DS-Unit-2-Kaggle-Challenge/blob/master/module3/assignment_kaggle_challenge_3.ipynb\" target=\"_parent\"><img src=\"https://colab.research.google.com/assets/colab-badge.svg\" alt=\"Open In Colab\"/></a>"
      ]
    },
    {
      "cell_type": "markdown",
      "metadata": {
        "id": "7IXUfiQ2UKj6",
        "colab_type": "text"
      },
      "source": [
        "Lambda School Data Science, Unit 2: Predictive Modeling\n",
        "\n",
        "# Kaggle Challenge, Module 3\n",
        "\n",
        "## Assignment\n",
        "- [ ] [Review requirements for your portfolio project](https://lambdaschool.github.io/ds/unit2/portfolio-project/ds6), then choose your dataset, and [submit this form](https://forms.gle/nyWURUg65x1UTRNV9), due today at 4pm Pacific.\n",
        "- [ ] Continue to participate in our Kaggle challenge.\n",
        "- [ ] Try xgboost.\n",
        "- [ ] Get your model's permutation importances.\n",
        "- [ ] Try feature selection with permutation importances.\n",
        "- [ ] Submit your predictions to our Kaggle competition. (Go to our Kaggle InClass competition webpage. Use the blue **Submit Predictions** button to upload your CSV file. Or you can use the Kaggle API to submit your predictions.)\n",
        "- [ ] Commit your notebook to your fork of the GitHub repo.\n",
        "\n",
        "## Stretch Goals\n",
        "\n",
        "### Doing\n",
        "- [ ] Add your own stretch goal(s) !\n",
        "- [ ] Do more exploratory data analysis, data cleaning, feature engineering, and feature selection.\n",
        "- [ ] Try other categorical encodings.\n",
        "- [ ] Try other Python libraries for gradient boosting.\n",
        "- [ ] Look at the bonus notebook in the repo, about monotonic constraints with gradient boosting.\n",
        "- [ ] Make visualizations and share on Slack.\n",
        "\n",
        "### Reading\n",
        "\n",
        "Top recommendations in _**bold italic:**_\n",
        "\n",
        "#### Permutation Importances\n",
        "- _**[Kaggle / Dan Becker: Machine Learning Explainability](https://www.kaggle.com/dansbecker/permutation-importance)**_\n",
        "- [Christoph Molnar: Interpretable Machine Learning](https://christophm.github.io/interpretable-ml-book/feature-importance.html)\n",
        "\n",
        "#### (Default) Feature Importances\n",
        "  - [Ando Saabas: Selecting good features, Part 3, Random Forests](https://blog.datadive.net/selecting-good-features-part-iii-random-forests/)\n",
        "  - [Terence Parr, et al: Beware Default Random Forest Importances](https://explained.ai/rf-importance/index.html)\n",
        "\n",
        "#### Gradient Boosting\n",
        "  - [A Gentle Introduction to the Gradient Boosting Algorithm for Machine Learning](https://machinelearningmastery.com/gentle-introduction-gradient-boosting-algorithm-machine-learning/)\n",
        "  - _**[A Kaggle Master Explains Gradient Boosting](http://blog.kaggle.com/2017/01/23/a-kaggle-master-explains-gradient-boosting/)**_\n",
        "  - [_An Introduction to Statistical Learning_](http://www-bcf.usc.edu/~gareth/ISL/ISLR%20Seventh%20Printing.pdf) Chapter 8\n",
        "  - [Gradient Boosting Explained](http://arogozhnikov.github.io/2016/06/24/gradient_boosting_explained.html)\n",
        "  - _**[Boosting](https://www.youtube.com/watch?v=GM3CDQfQ4sw) (2.5 minute video)**_\n",
        "\n",
        "#### Categorical encoding for trees\n",
        "- [Are categorical variables getting lost in your random forests?](https://roamanalytics.com/2016/10/28/are-categorical-variables-getting-lost-in-your-random-forests/)\n",
        "- [Beyond One-Hot: An Exploration of Categorical Variables](http://www.willmcginnis.com/2015/11/29/beyond-one-hot-an-exploration-of-categorical-variables/)\n",
        "- _**[Categorical Features and Encoding in Decision Trees](https://medium.com/data-design/visiting-categorical-features-and-encoding-in-decision-trees-53400fa65931)**_\n",
        "- _**[Coursera — How to Win a Data Science Competition: Learn from Top Kagglers — Concept of mean encoding](https://www.coursera.org/lecture/competitive-data-science/concept-of-mean-encoding-b5Gxv)**_\n",
        "- [Mean (likelihood) encodings: a comprehensive study](https://www.kaggle.com/vprokopev/mean-likelihood-encodings-a-comprehensive-study)\n",
        "- [The Mechanics of Machine Learning, Chapter 6: Categorically Speaking](https://mlbook.explained.ai/catvars.html)\n",
        "\n",
        "#### Imposter Syndrome\n",
        "- [Effort Shock and Reward Shock (How The Karate Kid Ruined The Modern World)](http://www.tempobook.com/2014/07/09/effort-shock-and-reward-shock/)\n",
        "- [How to manage impostor syndrome in data science](https://towardsdatascience.com/how-to-manage-impostor-syndrome-in-data-science-ad814809f068)\n",
        "- [\"I am not a real data scientist\"](https://brohrer.github.io/imposter_syndrome.html)\n",
        "- _**[Imposter Syndrome in Data Science](https://caitlinhudon.com/2018/01/19/imposter-syndrome-in-data-science/)**_\n",
        "\n",
        "\n",
        "\n",
        "\n"
      ]
    },
    {
      "cell_type": "markdown",
      "metadata": {
        "id": "Wd6T-m6bneLS",
        "colab_type": "text"
      },
      "source": [
        "### Python libraries for Gradient Boosting\n",
        "- [scikit-learn Gradient Tree Boosting](https://scikit-learn.org/stable/modules/ensemble.html#gradient-boosting) — slower than other libraries, but [the new version may be better](https://twitter.com/amuellerml/status/1129443826945396737)\n",
        "  - Anaconda: already installed\n",
        "  - Google Colab: already installed\n",
        "- [xgboost](https://xgboost.readthedocs.io/en/latest/) — can accept missing values and enforce [monotonic constraints](https://xiaoxiaowang87.github.io/monotonicity_constraint/)\n",
        "  - Anaconda, Mac/Linux: `conda install -c conda-forge xgboost`\n",
        "  - Windows: `conda install -c anaconda py-xgboost`\n",
        "  - Google Colab: already installed\n",
        "- [LightGBM](https://lightgbm.readthedocs.io/en/latest/) — can accept missing values and enforce [monotonic constraints](https://blog.datadive.net/monotonicity-constraints-in-machine-learning/)\n",
        "  - Anaconda: `conda install -c conda-forge lightgbm`\n",
        "  - Google Colab: already installed\n",
        "- [CatBoost](https://catboost.ai/) — can accept missing values and use [categorical features](https://catboost.ai/docs/concepts/algorithm-main-stages_cat-to-numberic.html) without preprocessing\n",
        "  - Anaconda: `conda install -c conda-forge catboost`\n",
        "  - Google Colab: `pip install catboost`"
      ]
    },
    {
      "cell_type": "markdown",
      "metadata": {
        "id": "o1nF5eU9nJwL",
        "colab_type": "text"
      },
      "source": [
        "### Categorical Encodings\n",
        "\n",
        "**1.** The article **[Categorical Features and Encoding in Decision Trees](https://medium.com/data-design/visiting-categorical-features-and-encoding-in-decision-trees-53400fa65931)** mentions 4 encodings:\n",
        "\n",
        "- **\"Categorical Encoding\":** This means using the raw categorical values as-is, not encoded. Scikit-learn doesn't support this, but some tree algorithm implementations do. For example, [Catboost](https://catboost.ai/), or R's [rpart](https://cran.r-project.org/web/packages/rpart/index.html) package.\n",
        "- **Numeric Encoding:** Synonymous with Label Encoding, or \"Ordinal\" Encoding with random order. We can use [category_encoders.OrdinalEncoder](https://contrib.scikit-learn.org/categorical-encoding/ordinal.html).\n",
        "- **One-Hot Encoding:** We can use [category_encoders.OneHotEncoder](http://contrib.scikit-learn.org/categorical-encoding/onehot.html).\n",
        "- **Binary Encoding:** We can use [category_encoders.BinaryEncoder](http://contrib.scikit-learn.org/categorical-encoding/binary.html).\n",
        "\n",
        "\n",
        "**2.** The short video \n",
        "**[Coursera — How to Win a Data Science Competition: Learn from Top Kagglers — Concept of mean encoding](https://www.coursera.org/lecture/competitive-data-science/concept-of-mean-encoding-b5Gxv)** introduces an interesting idea: use both X _and_ y to encode categoricals.\n",
        "\n",
        "Category Encoders has multiple implementations of this general concept:\n",
        "\n",
        "- [CatBoost Encoder](http://contrib.scikit-learn.org/categorical-encoding/catboost.html)\n",
        "- [James-Stein Encoder](http://contrib.scikit-learn.org/categorical-encoding/jamesstein.html)\n",
        "- [Leave One Out](http://contrib.scikit-learn.org/categorical-encoding/leaveoneout.html)\n",
        "- [M-estimate](http://contrib.scikit-learn.org/categorical-encoding/mestimate.html)\n",
        "- [Target Encoder](http://contrib.scikit-learn.org/categorical-encoding/targetencoder.html)\n",
        "- [Weight of Evidence](http://contrib.scikit-learn.org/categorical-encoding/woe.html)\n",
        "\n",
        "Category Encoder's mean encoding implementations work for regression problems or binary classification problems. \n",
        "\n",
        "For multi-class classification problems, you will need to temporarily reformulate it as binary classification. For example:\n",
        "\n",
        "```python\n",
        "encoder = ce.TargetEncoder(min_samples_leaf=..., smoothing=...) # Both parameters > 1 to avoid overfitting\n",
        "X_train_encoded = encoder.fit_transform(X_train, y_train=='functional')\n",
        "X_val_encoded = encoder.transform(X_train, y_val=='functional')\n",
        "```\n",
        "\n",
        "**3.** The **[dirty_cat](https://dirty-cat.github.io/stable/)** library has a Target Encoder implementation that works with multi-class classification.\n",
        "\n",
        "```python\n",
        " dirty_cat.TargetEncoder(clf_type='multiclass-clf')\n",
        "```\n",
        "It also implements an interesting idea called [\"Similarity Encoder\" for dirty categories](https://www.slideshare.net/GaelVaroquaux/machine-learning-on-non-curated-data-154905090).\n",
        "\n",
        "However, it seems like dirty_cat doesn't handle missing values or unknown categories as well as category_encoders does. And you may need to use it with one column at a time, instead of with your whole dataframe.\n",
        "\n",
        "**4. [Embeddings](https://www.kaggle.com/learn/embeddings)** can work well with sparse / high cardinality categoricals.\n",
        "\n",
        "_**I hope it’s not too frustrating or confusing that there’s not one “canonical” way to encode categorcals. It’s an active area of research and experimentation! Maybe you can make your own contributions!**_"
      ]
    },
    {
      "cell_type": "code",
      "metadata": {
        "id": "o9eSnDYhUGD7",
        "colab_type": "code",
        "colab": {}
      },
      "source": [
        "%%capture\n",
        "import sys\n",
        "\n",
        "# If you're on Colab:\n",
        "if 'google.colab' in sys.modules:\n",
        "    DATA_PATH = 'https://raw.githubusercontent.com/LambdaSchool/DS-Unit-2-Kaggle-Challenge/master/data/'\n",
        "    !pip install category_encoders==2.*\n",
        "\n",
        "# If you're working locally:\n",
        "else:\n",
        "    DATA_PATH = '../data/'"
      ],
      "execution_count": 0,
      "outputs": []
    },
    {
      "cell_type": "code",
      "metadata": {
        "id": "QJBD4ruICm1m",
        "colab_type": "code",
        "colab": {}
      },
      "source": [
        "import pandas as pd\n",
        "\n",
        "# Merge train_features.csv & train_labels.csv\n",
        "train = pd.merge(pd.read_csv(DATA_PATH+'waterpumps/train_features.csv'), \n",
        "                 pd.read_csv(DATA_PATH+'waterpumps/train_labels.csv'))\n",
        "\n",
        "# Read test_features.csv & sample_submission.csv\n",
        "test = pd.read_csv(DATA_PATH+'waterpumps/test_features.csv')\n",
        "sample_submission = pd.read_csv(DATA_PATH+'waterpumps/sample_submission.csv')"
      ],
      "execution_count": 0,
      "outputs": []
    },
    {
      "cell_type": "code",
      "metadata": {
        "id": "saBi6bSyZr8I",
        "colab_type": "code",
        "colab": {}
      },
      "source": [
        "#Have Imports in one place :)\n",
        "import category_encoders as ce\n",
        "import xgboost as xgb\n",
        "from xgboost import XGBClassifier\n",
        "from scipy.stats import randint, uniform\n",
        "from sklearn.experimental import enable_iterative_imputer\n",
        "from sklearn.impute import SimpleImputer, IterativeImputer\n",
        "from sklearn.linear_model import LogisticRegression, Ridge\n",
        "from sklearn.ensemble import RandomForestClassifier, GradientBoostingClassifier\n",
        "from sklearn.pipeline import make_pipeline\n",
        "from sklearn.preprocessing import StandardScaler\n",
        "from sklearn.tree import DecisionTreeClassifier\n",
        "from sklearn.feature_selection import SelectKBest, chi2\n",
        "from sklearn.metrics import accuracy_score\n",
        "from sklearn.model_selection import cross_val_score, RandomizedSearchCV\n",
        "import eli5\n",
        "from eli5.sklearn import PermutationImportance\n",
        "import numpy as np"
      ],
      "execution_count": 0,
      "outputs": []
    },
    {
      "cell_type": "code",
      "metadata": {
        "id": "fnYJOlqJaJVw",
        "colab_type": "code",
        "colab": {}
      },
      "source": [
        "def wrangle(df):   \n",
        "    df = df.copy()\n",
        "    #\n",
        "    df['latitude'] = df['latitude'].replace(-2e-08,0)\n",
        "    df['date_recorded'] = pd.to_datetime(df['date_recorded'],infer_datetime_format=True)\n",
        "    df['year_recorded'] = df['date_recorded'].dt.year\n",
        "    df['month_recorded'] = df['date_recorded'].dt.month\n",
        "    df['day_recorded'] = df['date_recorded'].dt.day  \n",
        "    # Drop dupes\n",
        "    df = df.drop(columns=['id','date_recorded','quantity_group',\n",
        "                          'scheme_management','quality_group',\n",
        "                          'waterpoint_type_group','extraction_type_group',\n",
        "                          'payment_type'])\n",
        "    col_zero = ['longitude','latitude','subvillage',\n",
        "                'installer',\n",
        "                'population','construction_year','gps_height']\n",
        "    for col in col_zero:\n",
        "        df[col] = df[col].replace(0,np.nan)\n",
        "        df[col] = df[col].replace('0',np.nan)\n",
        "        df[col+'_MISSING'] = df[col].isnull()\n",
        "    \n",
        "    # Ryan's Engineer feature\n",
        "    df['years'] = df['year_recorded'] - df['construction_year']\n",
        "    df['years_MISSING'] = df['years'].isnull()\n",
        "\n",
        "    df['season'] = df['month_recorded']\n",
        "    df['season'].replace([3,4,5,6,7,8], 'hot', inplace=True)\n",
        "    df['season'].replace([9,10,11,12,1,2], 'cool', inplace=True)\n",
        "\n",
        "    return df"
      ],
      "execution_count": 0,
      "outputs": []
    },
    {
      "cell_type": "code",
      "metadata": {
        "id": "qKTyDIB5gJlT",
        "colab_type": "code",
        "colab": {}
      },
      "source": [
        "def reduceCard(df1,df2,col,amt):\n",
        "    df1[col] = df1[col].astype(str)\n",
        "    df2[col] = df2[col].astype(str)\n",
        "    listoftop = df1[col].value_counts()[:amt].index\n",
        "    df1.loc[~df1[col].isin(listoftop),col] = 'other'\n",
        "    df2.loc[~df2[col].isin(listoftop),col] = 'other'\n",
        "    return df1, df2"
      ],
      "execution_count": 0,
      "outputs": []
    },
    {
      "cell_type": "code",
      "metadata": {
        "id": "x8bQW0C5cBVV",
        "colab_type": "code",
        "colab": {}
      },
      "source": [
        "#For \"Get your model's permutation importances.\"\n",
        "def permutationCreator(X_train, X_val, y_train, y_val):\n",
        "    transformers = make_pipeline(\n",
        "        ce.OrdinalEncoder(),\n",
        "        SimpleImputer(strategy='mean')\n",
        "    )\n",
        "    X_train_t = transformers.fit_transform(X_train)\n",
        "    X_val_t = transformers.transform(X_val)\n",
        "\n",
        "    model = RandomForestClassifier(n_estimators=200,random_state=4,n_jobs=-1)\n",
        "    model.fit(X_train_t, y_train)\n",
        "\n",
        "    permuter = PermutationImportance(\n",
        "        model,\n",
        "        scoring = 'accuracy',\n",
        "        n_iter = 2,\n",
        "        random_state = 42\n",
        "    )\n",
        "    permuter.fit(X_val_t,y_val)\n",
        "    features = X_train.columns.tolist()\n",
        "    return permuter, features"
      ],
      "execution_count": 0,
      "outputs": []
    },
    {
      "cell_type": "code",
      "metadata": {
        "id": "rvQVIbW_dBZT",
        "colab_type": "code",
        "colab": {}
      },
      "source": [
        "#Feature selection\n",
        "#\"Try feature selection with permutation importances.\"\n",
        "def featureImportance(train, val, permuter, min_imp):\n",
        "    mask = permuter.feature_importances_ > min_imp\n",
        "    features = train.columns[mask]\n",
        "    X_train, X_val = train[features], val[features]\n",
        "    \n",
        "    return X_train, X_val, features"
      ],
      "execution_count": 0,
      "outputs": []
    },
    {
      "cell_type": "code",
      "metadata": {
        "id": "KKt2GUmudP1J",
        "colab_type": "code",
        "colab": {}
      },
      "source": [
        "#Pipeline\n",
        "pipe = make_pipeline(\n",
        "    ce.TargetEncoder(),\n",
        "    SimpleImputer(),\n",
        "    SelectKBest(),\n",
        "    Ridge()\n",
        ")"
      ],
      "execution_count": 0,
      "outputs": []
    },
    {
      "cell_type": "code",
      "metadata": {
        "id": "AsrFpNfueCb1",
        "colab_type": "code",
        "colab": {}
      },
      "source": [
        "#logistical Regression\n",
        "log_reg = make_pipeline(\n",
        "    ce.OneHotEncoder(use_cat_names=True),\n",
        "    IterativeImputer(),\n",
        "    StandardScaler(),\n",
        "    LogisticRegression(solver='lbfgs',multi_class='auto',max_iter=1000)\n",
        ")"
      ],
      "execution_count": 0,
      "outputs": []
    },
    {
      "cell_type": "code",
      "metadata": {
        "id": "sMwvqZzheQHY",
        "colab_type": "code",
        "colab": {}
      },
      "source": [
        "#decision tree\n",
        "dec_tree = make_pipeline(\n",
        "    ce.OneHotEncoder(use_cat_names=True),\n",
        "    IterativeImputer(),\n",
        "    DecisionTreeClassifier(min_samples_leaf=25,random_state=42)\n",
        ")"
      ],
      "execution_count": 0,
      "outputs": []
    },
    {
      "cell_type": "code",
      "metadata": {
        "id": "OmQP_MF-earr",
        "colab_type": "code",
        "colab": {}
      },
      "source": [
        "#random forest\n",
        "ran_for = make_pipeline(\n",
        "    ce.OrdinalEncoder(),\n",
        "    SimpleImputer(strategy='mean'),\n",
        "    RandomForestClassifier(n_estimators=1000,random_state=4,n_jobs=-1)\n",
        ")"
      ],
      "execution_count": 0,
      "outputs": []
    },
    {
      "cell_type": "code",
      "metadata": {
        "id": "sb1e5VSoejrh",
        "colab_type": "code",
        "colab": {}
      },
      "source": [
        "#gradient boost\n",
        "g_boost = make_pipeline(\n",
        "    ce.OrdinalEncoder(),\n",
        "    SimpleImputer(strategy='median'),\n",
        "    GradientBoostingClassifier()\n",
        ")"
      ],
      "execution_count": 0,
      "outputs": []
    },
    {
      "cell_type": "code",
      "metadata": {
        "id": "PvLUedb_eppd",
        "colab_type": "code",
        "colab": {}
      },
      "source": [
        "#XGB classifier\n",
        "xgb = make_pipeline(\n",
        "    ce.OrdinalEncoder(),\n",
        "    # No special Early Stopping\n",
        "    XGBClassifier(n_estimators=100,n_jobs=-1)\n",
        ")"
      ],
      "execution_count": 0,
      "outputs": []
    },
    {
      "cell_type": "code",
      "metadata": {
        "id": "f1MYx61zeu3k",
        "colab_type": "code",
        "colab": {}
      },
      "source": [
        "#Cross val\n",
        "target = 'status_group'\n",
        "\n",
        "X_train = wrangle(train)\n",
        "y_train = X_train[target]\n",
        "\n",
        "param_dist = {\n",
        "    'simpleimputer__strategy': ['mean','median'],\n",
        "    'selectkbest__k': range(1,len(X_train.columns)+1),\n",
        "    'ridge__alpha': uniform(1,10)\n",
        "}\n",
        "\n",
        "search = RandomizedSearchCV(\n",
        "    pipe,\n",
        "    param_distributions=param_dist,\n",
        "    n_iter=50,\n",
        "    cv=5,\n",
        "    scoring='neg_mean_absolute_error',\n",
        "    verbose=10,\n",
        "    return_train_score=True,\n",
        "    n_jobs=-1\n",
        ")"
      ],
      "execution_count": 0,
      "outputs": []
    },
    {
      "cell_type": "code",
      "metadata": {
        "id": "cNgIQq8Ph0wT",
        "colab_type": "code",
        "colab": {
          "base_uri": "https://localhost:8080/",
          "height": 1000
        },
        "outputId": "beda63d5-dd82-41a8-d683-749310454774"
      },
      "source": [
        "search.fit(X_train,y_train)"
      ],
      "execution_count": 64,
      "outputs": [
        {
          "output_type": "stream",
          "text": [
            "Fitting 5 folds for each of 50 candidates, totalling 250 fits\n"
          ],
          "name": "stdout"
        },
        {
          "output_type": "stream",
          "text": [
            "[Parallel(n_jobs=-1)]: Using backend LokyBackend with 2 concurrent workers.\n",
            "[Parallel(n_jobs=-1)]: Done   1 tasks      | elapsed:    7.0s\n",
            "[Parallel(n_jobs=-1)]: Done   2 tasks      | elapsed:    7.0s\n",
            "[Parallel(n_jobs=-1)]: Done   3 tasks      | elapsed:    7.0s\n",
            "[Parallel(n_jobs=-1)]: Done   4 tasks      | elapsed:    7.0s\n"
          ],
          "name": "stderr"
        },
        {
          "output_type": "error",
          "ename": "TypeError",
          "evalue": "ignored",
          "traceback": [
            "\u001b[0;31m---------------------------------------------------------------------------\u001b[0m",
            "\u001b[0;31m_RemoteTraceback\u001b[0m                          Traceback (most recent call last)",
            "\u001b[0;31m_RemoteTraceback\u001b[0m: \n\"\"\"\nTraceback (most recent call last):\n  File \"/usr/local/lib/python3.6/dist-packages/pandas/core/nanops.py\", line 1164, in _ensure_numeric\n    x = float(x)\nValueError: could not convert string to float: 'non functionalfunctionalfunctionalnon functionalnon functionalnon functionalfunctionalfunctional needs repairnon functionalnon functionalfunctionalnon functionalfunctionalfunctionalfunctionalfunctionalfunctionalfunctional needs repairnon functionalfunctional needs repairfunctionalnon functionalfunctionalfunctionalnon functionalnon functionalnon functionalfunctional needs repairnon functionalnon functionalfunctionalfunctionalfunctionalfunctionalfunctionalnon functionalnon functionalnon functionalfunctionalfunctionalfunctionalnon functionalfunctionalfunctionalfunctionalfunctionalfunctionalnon functionalfunctionalfunctionalfunctionalnon functionalfunctionalnon functionalfunctionalfunctionalfunctionalnon functionalfunctionalfunctionalnon functionalfunctional needs repairfunctional needs repairfunctionalnon functionalfunctionalfunctionalnon functionalfunctionalnon functionalnon functionalnon functionalfunctional needs repairfunctionalnon functionalfunctional needs repairfunctionalfunctionalnon functionalfunctionalnon functionalfunctionalnon functionalnon functionalfunctionalfunctionalnon functionalfunctionalfunctionalfunctionalfunctionalnon functionalfunctionalnon functionalfunctionalnon functionalfunctionalfunctional needs repairfunctionalfunctionalfunctionalfunctionalnon functionalfunctionalfunctionalfunctionalnon functionalfunctional needs repairfunctionalnon functionalnon functionalnon functionalfunctionalnon functionalnon fun...\n\nDuring handling of the above exception, another exception occurred:\n\nTraceback (most recent call last):\n  File \"/usr/local/lib/python3.6/dist-packages/pandas/core/nanops.py\", line 1167, in _ensure_numeric\n    x = complex(x)\nValueError: complex() arg is a malformed string\n\nDuring handling of the above exception, another exception occurred:\n\nTraceback (most recent call last):\n  File \"/usr/local/lib/python3.6/dist-packages/pandas/core/nanops.py\", line 127, in f\n    result = alt(values, axis=axis, skipna=skipna, **kwds)\n  File \"/usr/local/lib/python3.6/dist-packages/pandas/core/nanops.py\", line 479, in nanmean\n    the_sum = _ensure_numeric(values.sum(axis, dtype=dtype_sum))\n  File \"/usr/local/lib/python3.6/dist-packages/pandas/core/nanops.py\", line 1170, in _ensure_numeric\n    .format(value=x))\nTypeError: Could not convert non functionalfunctionalfunctionalnon functionalnon functionalnon functionalfunctionalfunctional needs repairnon functionalnon functionalfunctionalnon functionalfunctionalfunctionalfunctionalfunctionalfunctionalfunctional needs repairnon functionalfunctional needs repairfunctionalnon functionalfunctionalfunctionalnon functionalnon functionalnon functionalfunctional needs repairnon functionalnon functionalfunctionalfunctionalfunctionalfunctionalfunctionalnon functionalnon functionalnon functionalfunctionalfunctionalfunctionalnon functionalfunctionalfunctionalfunctionalfunctionalfunctionalnon functionalfunctionalfunctionalfunctionalnon functionalfunctionalnon functionalfunctionalfunctionalfunctionalnon functionalfunctionalfunctionalnon functionalfunctional needs repairfunctional needs repairfunctionalnon functionalfunctionalfunctionalnon functionalfunctionalnon functionalnon functionalnon functionalfunctional needs repairfunctionalnon functionalfunctional needs repairfunctionalfunctionalnon functionalfunctionalnon functionalfunctionalnon functionalnon functionalfunctionalfunctionalnon functionalfunctionalfunctionalfunctionalfunctionalnon functionalfunctionalnon functionalfunctionalnon functionalfunctionalfunctional needs repairfunctionalfunctionalfunctionalfunctionalnon functionalfunctionalfunctionalfunctionalnon functionalfunctional needs repairfunctionalnon functionalnon functionalnon functionalfunctionalnon functionalnon functionalfunctionalno...\n\nDuring handling of the above exception, another exception occurred:\n\nTraceback (most recent call last):\n  File \"/usr/local/lib/python3.6/dist-packages/pandas/core/nanops.py\", line 1164, in _ensure_numeric\n    x = float(x)\nValueError: could not convert string to float: 'non functionalfunctionalfunctionalnon functionalnon functionalnon functionalfunctionalfunctional needs repairnon functionalnon functionalfunctionalnon functionalfunctionalfunctionalfunctionalfunctionalfunctionalfunctional needs repairnon functionalfunctional needs repairfunctionalnon functionalfunctionalfunctionalnon functionalnon functionalnon functionalfunctional needs repairnon functionalnon functionalfunctionalfunctionalfunctionalfunctionalfunctionalnon functionalnon functionalnon functionalfunctionalfunctionalfunctionalnon functionalfunctionalfunctionalfunctionalfunctionalfunctionalnon functionalfunctionalfunctionalfunctionalnon functionalfunctionalnon functionalfunctionalfunctionalfunctionalnon functionalfunctionalfunctionalnon functionalfunctional needs repairfunctional needs repairfunctionalnon functionalfunctionalfunctionalnon functionalfunctionalnon functionalnon functionalnon functionalfunctional needs repairfunctionalnon functionalfunctional needs repairfunctionalfunctionalnon functionalfunctionalnon functionalfunctionalnon functionalnon functionalfunctionalfunctionalnon functionalfunctionalfunctionalfunctionalfunctionalnon functionalfunctionalnon functionalfunctionalnon functionalfunctionalfunctional needs repairfunctionalfunctionalfunctionalfunctionalnon functionalfunctionalfunctionalfunctionalnon functionalfunctional needs repairfunctionalnon functionalnon functionalnon functionalfunctionalnon functionalnon fun...\n\nDuring handling of the above exception, another exception occurred:\n\nTraceback (most recent call last):\n  File \"/usr/local/lib/python3.6/dist-packages/pandas/core/nanops.py\", line 1167, in _ensure_numeric\n    x = complex(x)\nValueError: complex() arg is a malformed string\n\nDuring handling of the above exception, another exception occurred:\n\nTraceback (most recent call last):\n  File \"/usr/local/lib/python3.6/dist-packages/joblib/externals/loky/process_executor.py\", line 418, in _process_worker\n    r = call_item()\n  File \"/usr/local/lib/python3.6/dist-packages/joblib/externals/loky/process_executor.py\", line 272, in __call__\n    return self.fn(*self.args, **self.kwargs)\n  File \"/usr/local/lib/python3.6/dist-packages/joblib/_parallel_backends.py\", line 600, in __call__\n    return self.func(*args, **kwargs)\n  File \"/usr/local/lib/python3.6/dist-packages/joblib/parallel.py\", line 256, in __call__\n    for func, args, kwargs in self.items]\n  File \"/usr/local/lib/python3.6/dist-packages/joblib/parallel.py\", line 256, in <listcomp>\n    for func, args, kwargs in self.items]\n  File \"/usr/local/lib/python3.6/dist-packages/sklearn/model_selection/_validation.py\", line 516, in _fit_and_score\n    estimator.fit(X_train, y_train, **fit_params)\n  File \"/usr/local/lib/python3.6/dist-packages/sklearn/pipeline.py\", line 352, in fit\n    Xt, fit_params = self._fit(X, y, **fit_params)\n  File \"/usr/local/lib/python3.6/dist-packages/sklearn/pipeline.py\", line 317, in _fit\n    **fit_params_steps[name])\n  File \"/usr/local/lib/python3.6/dist-packages/joblib/memory.py\", line 355, in __call__\n    return self.func(*args, **kwargs)\n  File \"/usr/local/lib/python3.6/dist-packages/sklearn/pipeline.py\", line 716, in _fit_transform_one\n    res = transformer.fit_transform(X, y, **fit_params)\n  File \"/usr/local/lib/python3.6/dist-packages/category_encoders/target_encoder.py\", line 258, in fit_transform\n    return self.fit(X, y, **fit_params).transform(X, y)\n  File \"/usr/local/lib/python3.6/dist-packages/category_encoders/target_encoder.py\", line 142, in fit\n    self.mapping = self.fit_target_encoding(X_ordinal, y)\n  File \"/usr/local/lib/python3.6/dist-packages/category_encoders/target_encoder.py\", line 168, in fit_target_encoding\n    prior = self._mean = y.mean()\n  File \"/usr/local/lib/python3.6/dist-packages/pandas/core/generic.py\", line 10956, in stat_func\n    numeric_only=numeric_only)\n  File \"/usr/local/lib/python3.6/dist-packages/pandas/core/series.py\", line 3630, in _reduce\n    return op(delegate, skipna=skipna, **kwds)\n  File \"/usr/local/lib/python3.6/dist-packages/pandas/core/nanops.py\", line 76, in _f\n    return f(*args, **kwargs)\n  File \"/usr/local/lib/python3.6/dist-packages/pandas/core/nanops.py\", line 130, in f\n    result = alt(values, axis=axis, skipna=skipna, **kwds)\n  File \"/usr/local/lib/python3.6/dist-packages/pandas/core/nanops.py\", line 479, in nanmean\n    the_sum = _ensure_numeric(values.sum(axis, dtype=dtype_sum))\n  File \"/usr/local/lib/python3.6/dist-packages/pandas/core/nanops.py\", line 1170, in _ensure_numeric\n    .format(value=x))\nTypeError: Could not convert non functionalfunctionalfunctionalnon functionalnon functionalnon functionalfunctionalfunctional needs repairnon functionalnon functionalfunctionalnon functionalfunctionalfunctionalfunctionalfunctionalfunctionalfunctional needs repairnon functionalfunctional needs repairfunctionalnon functionalfunctionalfunctionalnon functionalnon functionalnon functionalfunctional needs repairnon functionalnon functionalfunctionalfunctionalfunctionalfunctionalfunctionalnon functionalnon functionalnon functionalfunctionalfunctionalfunctionalnon functionalfunctionalfunctionalfunctionalfunctionalfunctionalnon functionalfunctionalfunctionalfunctionalnon functionalfunctionalnon functionalfunctionalfunctionalfunctionalnon functionalfunctionalfunctionalnon functionalfunctional needs repairfunctional needs repairfunctionalnon functionalfunctionalfunctionalnon functionalfunctionalnon functionalnon functionalnon functionalfunctional needs repairfunctionalnon functionalfunctional needs repairfunctionalfunctionalnon functionalfunctionalnon functionalfunctionalnon functionalnon functionalfunctionalfunctionalnon functionalfunctionalfunctionalfunctionalfunctionalnon functionalfunctionalnon functionalfunctionalnon functionalfunctionalfunctional needs repairfunctionalfunctionalfunctionalfunctionalnon functionalfunctionalfunctionalfunctionalnon functionalfunctional needs repairfunctionalnon functionalnon functionalnon functionalfunctionalnon functionalnon functionalfunctionalno...\n\"\"\"",
            "\nThe above exception was the direct cause of the following exception:\n",
            "\u001b[0;31mTypeError\u001b[0m                                 Traceback (most recent call last)",
            "\u001b[0;32m<ipython-input-64-c04fc3a23fe8>\u001b[0m in \u001b[0;36m<module>\u001b[0;34m()\u001b[0m\n\u001b[0;32m----> 1\u001b[0;31m \u001b[0msearch\u001b[0m\u001b[0;34m.\u001b[0m\u001b[0mfit\u001b[0m\u001b[0;34m(\u001b[0m\u001b[0mX_train\u001b[0m\u001b[0;34m,\u001b[0m\u001b[0my_train\u001b[0m\u001b[0;34m)\u001b[0m\u001b[0;34m\u001b[0m\u001b[0;34m\u001b[0m\u001b[0m\n\u001b[0m",
            "\u001b[0;32m/usr/local/lib/python3.6/dist-packages/sklearn/model_selection/_search.py\u001b[0m in \u001b[0;36mfit\u001b[0;34m(self, X, y, groups, **fit_params)\u001b[0m\n\u001b[1;32m    686\u001b[0m                 \u001b[0;32mreturn\u001b[0m \u001b[0mresults\u001b[0m\u001b[0;34m\u001b[0m\u001b[0;34m\u001b[0m\u001b[0m\n\u001b[1;32m    687\u001b[0m \u001b[0;34m\u001b[0m\u001b[0m\n\u001b[0;32m--> 688\u001b[0;31m             \u001b[0mself\u001b[0m\u001b[0;34m.\u001b[0m\u001b[0m_run_search\u001b[0m\u001b[0;34m(\u001b[0m\u001b[0mevaluate_candidates\u001b[0m\u001b[0;34m)\u001b[0m\u001b[0;34m\u001b[0m\u001b[0;34m\u001b[0m\u001b[0m\n\u001b[0m\u001b[1;32m    689\u001b[0m \u001b[0;34m\u001b[0m\u001b[0m\n\u001b[1;32m    690\u001b[0m         \u001b[0;31m# For multi-metric evaluation, store the best_index_, best_params_ and\u001b[0m\u001b[0;34m\u001b[0m\u001b[0;34m\u001b[0m\u001b[0;34m\u001b[0m\u001b[0m\n",
            "\u001b[0;32m/usr/local/lib/python3.6/dist-packages/sklearn/model_selection/_search.py\u001b[0m in \u001b[0;36m_run_search\u001b[0;34m(self, evaluate_candidates)\u001b[0m\n\u001b[1;32m   1467\u001b[0m         evaluate_candidates(ParameterSampler(\n\u001b[1;32m   1468\u001b[0m             \u001b[0mself\u001b[0m\u001b[0;34m.\u001b[0m\u001b[0mparam_distributions\u001b[0m\u001b[0;34m,\u001b[0m \u001b[0mself\u001b[0m\u001b[0;34m.\u001b[0m\u001b[0mn_iter\u001b[0m\u001b[0;34m,\u001b[0m\u001b[0;34m\u001b[0m\u001b[0;34m\u001b[0m\u001b[0m\n\u001b[0;32m-> 1469\u001b[0;31m             random_state=self.random_state))\n\u001b[0m",
            "\u001b[0;32m/usr/local/lib/python3.6/dist-packages/sklearn/model_selection/_search.py\u001b[0m in \u001b[0;36mevaluate_candidates\u001b[0;34m(candidate_params)\u001b[0m\n\u001b[1;32m    665\u001b[0m                                \u001b[0;32mfor\u001b[0m \u001b[0mparameters\u001b[0m\u001b[0;34m,\u001b[0m \u001b[0;34m(\u001b[0m\u001b[0mtrain\u001b[0m\u001b[0;34m,\u001b[0m \u001b[0mtest\u001b[0m\u001b[0;34m)\u001b[0m\u001b[0;34m\u001b[0m\u001b[0;34m\u001b[0m\u001b[0m\n\u001b[1;32m    666\u001b[0m                                in product(candidate_params,\n\u001b[0;32m--> 667\u001b[0;31m                                           cv.split(X, y, groups)))\n\u001b[0m\u001b[1;32m    668\u001b[0m \u001b[0;34m\u001b[0m\u001b[0m\n\u001b[1;32m    669\u001b[0m                 \u001b[0;32mif\u001b[0m \u001b[0mlen\u001b[0m\u001b[0;34m(\u001b[0m\u001b[0mout\u001b[0m\u001b[0;34m)\u001b[0m \u001b[0;34m<\u001b[0m \u001b[0;36m1\u001b[0m\u001b[0;34m:\u001b[0m\u001b[0;34m\u001b[0m\u001b[0;34m\u001b[0m\u001b[0m\n",
            "\u001b[0;32m/usr/local/lib/python3.6/dist-packages/joblib/parallel.py\u001b[0m in \u001b[0;36m__call__\u001b[0;34m(self, iterable)\u001b[0m\n\u001b[1;32m   1014\u001b[0m \u001b[0;34m\u001b[0m\u001b[0m\n\u001b[1;32m   1015\u001b[0m             \u001b[0;32mwith\u001b[0m \u001b[0mself\u001b[0m\u001b[0;34m.\u001b[0m\u001b[0m_backend\u001b[0m\u001b[0;34m.\u001b[0m\u001b[0mretrieval_context\u001b[0m\u001b[0;34m(\u001b[0m\u001b[0;34m)\u001b[0m\u001b[0;34m:\u001b[0m\u001b[0;34m\u001b[0m\u001b[0;34m\u001b[0m\u001b[0m\n\u001b[0;32m-> 1016\u001b[0;31m                 \u001b[0mself\u001b[0m\u001b[0;34m.\u001b[0m\u001b[0mretrieve\u001b[0m\u001b[0;34m(\u001b[0m\u001b[0;34m)\u001b[0m\u001b[0;34m\u001b[0m\u001b[0;34m\u001b[0m\u001b[0m\n\u001b[0m\u001b[1;32m   1017\u001b[0m             \u001b[0;31m# Make sure that we get a last message telling us we are done\u001b[0m\u001b[0;34m\u001b[0m\u001b[0;34m\u001b[0m\u001b[0;34m\u001b[0m\u001b[0m\n\u001b[1;32m   1018\u001b[0m             \u001b[0melapsed_time\u001b[0m \u001b[0;34m=\u001b[0m \u001b[0mtime\u001b[0m\u001b[0;34m.\u001b[0m\u001b[0mtime\u001b[0m\u001b[0;34m(\u001b[0m\u001b[0;34m)\u001b[0m \u001b[0;34m-\u001b[0m \u001b[0mself\u001b[0m\u001b[0;34m.\u001b[0m\u001b[0m_start_time\u001b[0m\u001b[0;34m\u001b[0m\u001b[0;34m\u001b[0m\u001b[0m\n",
            "\u001b[0;32m/usr/local/lib/python3.6/dist-packages/joblib/parallel.py\u001b[0m in \u001b[0;36mretrieve\u001b[0;34m(self)\u001b[0m\n\u001b[1;32m    906\u001b[0m             \u001b[0;32mtry\u001b[0m\u001b[0;34m:\u001b[0m\u001b[0;34m\u001b[0m\u001b[0;34m\u001b[0m\u001b[0m\n\u001b[1;32m    907\u001b[0m                 \u001b[0;32mif\u001b[0m \u001b[0mgetattr\u001b[0m\u001b[0;34m(\u001b[0m\u001b[0mself\u001b[0m\u001b[0;34m.\u001b[0m\u001b[0m_backend\u001b[0m\u001b[0;34m,\u001b[0m \u001b[0;34m'supports_timeout'\u001b[0m\u001b[0;34m,\u001b[0m \u001b[0;32mFalse\u001b[0m\u001b[0;34m)\u001b[0m\u001b[0;34m:\u001b[0m\u001b[0;34m\u001b[0m\u001b[0;34m\u001b[0m\u001b[0m\n\u001b[0;32m--> 908\u001b[0;31m                     \u001b[0mself\u001b[0m\u001b[0;34m.\u001b[0m\u001b[0m_output\u001b[0m\u001b[0;34m.\u001b[0m\u001b[0mextend\u001b[0m\u001b[0;34m(\u001b[0m\u001b[0mjob\u001b[0m\u001b[0;34m.\u001b[0m\u001b[0mget\u001b[0m\u001b[0;34m(\u001b[0m\u001b[0mtimeout\u001b[0m\u001b[0;34m=\u001b[0m\u001b[0mself\u001b[0m\u001b[0;34m.\u001b[0m\u001b[0mtimeout\u001b[0m\u001b[0;34m)\u001b[0m\u001b[0;34m)\u001b[0m\u001b[0;34m\u001b[0m\u001b[0;34m\u001b[0m\u001b[0m\n\u001b[0m\u001b[1;32m    909\u001b[0m                 \u001b[0;32melse\u001b[0m\u001b[0;34m:\u001b[0m\u001b[0;34m\u001b[0m\u001b[0;34m\u001b[0m\u001b[0m\n\u001b[1;32m    910\u001b[0m                     \u001b[0mself\u001b[0m\u001b[0;34m.\u001b[0m\u001b[0m_output\u001b[0m\u001b[0;34m.\u001b[0m\u001b[0mextend\u001b[0m\u001b[0;34m(\u001b[0m\u001b[0mjob\u001b[0m\u001b[0;34m.\u001b[0m\u001b[0mget\u001b[0m\u001b[0;34m(\u001b[0m\u001b[0;34m)\u001b[0m\u001b[0;34m)\u001b[0m\u001b[0;34m\u001b[0m\u001b[0;34m\u001b[0m\u001b[0m\n",
            "\u001b[0;32m/usr/local/lib/python3.6/dist-packages/joblib/_parallel_backends.py\u001b[0m in \u001b[0;36mwrap_future_result\u001b[0;34m(future, timeout)\u001b[0m\n\u001b[1;32m    552\u001b[0m         AsyncResults.get from multiprocessing.\"\"\"\n\u001b[1;32m    553\u001b[0m         \u001b[0;32mtry\u001b[0m\u001b[0;34m:\u001b[0m\u001b[0;34m\u001b[0m\u001b[0;34m\u001b[0m\u001b[0m\n\u001b[0;32m--> 554\u001b[0;31m             \u001b[0;32mreturn\u001b[0m \u001b[0mfuture\u001b[0m\u001b[0;34m.\u001b[0m\u001b[0mresult\u001b[0m\u001b[0;34m(\u001b[0m\u001b[0mtimeout\u001b[0m\u001b[0;34m=\u001b[0m\u001b[0mtimeout\u001b[0m\u001b[0;34m)\u001b[0m\u001b[0;34m\u001b[0m\u001b[0;34m\u001b[0m\u001b[0m\n\u001b[0m\u001b[1;32m    555\u001b[0m         \u001b[0;32mexcept\u001b[0m \u001b[0mLokyTimeoutError\u001b[0m\u001b[0;34m:\u001b[0m\u001b[0;34m\u001b[0m\u001b[0;34m\u001b[0m\u001b[0m\n\u001b[1;32m    556\u001b[0m             \u001b[0;32mraise\u001b[0m \u001b[0mTimeoutError\u001b[0m\u001b[0;34m(\u001b[0m\u001b[0;34m)\u001b[0m\u001b[0;34m\u001b[0m\u001b[0;34m\u001b[0m\u001b[0m\n",
            "\u001b[0;32m/usr/lib/python3.6/concurrent/futures/_base.py\u001b[0m in \u001b[0;36mresult\u001b[0;34m(self, timeout)\u001b[0m\n\u001b[1;32m    430\u001b[0m                 \u001b[0;32mraise\u001b[0m \u001b[0mCancelledError\u001b[0m\u001b[0;34m(\u001b[0m\u001b[0;34m)\u001b[0m\u001b[0;34m\u001b[0m\u001b[0;34m\u001b[0m\u001b[0m\n\u001b[1;32m    431\u001b[0m             \u001b[0;32melif\u001b[0m \u001b[0mself\u001b[0m\u001b[0;34m.\u001b[0m\u001b[0m_state\u001b[0m \u001b[0;34m==\u001b[0m \u001b[0mFINISHED\u001b[0m\u001b[0;34m:\u001b[0m\u001b[0;34m\u001b[0m\u001b[0;34m\u001b[0m\u001b[0m\n\u001b[0;32m--> 432\u001b[0;31m                 \u001b[0;32mreturn\u001b[0m \u001b[0mself\u001b[0m\u001b[0;34m.\u001b[0m\u001b[0m__get_result\u001b[0m\u001b[0;34m(\u001b[0m\u001b[0;34m)\u001b[0m\u001b[0;34m\u001b[0m\u001b[0;34m\u001b[0m\u001b[0m\n\u001b[0m\u001b[1;32m    433\u001b[0m             \u001b[0;32melse\u001b[0m\u001b[0;34m:\u001b[0m\u001b[0;34m\u001b[0m\u001b[0;34m\u001b[0m\u001b[0m\n\u001b[1;32m    434\u001b[0m                 \u001b[0;32mraise\u001b[0m \u001b[0mTimeoutError\u001b[0m\u001b[0;34m(\u001b[0m\u001b[0;34m)\u001b[0m\u001b[0;34m\u001b[0m\u001b[0;34m\u001b[0m\u001b[0m\n",
            "\u001b[0;32m/usr/lib/python3.6/concurrent/futures/_base.py\u001b[0m in \u001b[0;36m__get_result\u001b[0;34m(self)\u001b[0m\n\u001b[1;32m    382\u001b[0m     \u001b[0;32mdef\u001b[0m \u001b[0m__get_result\u001b[0m\u001b[0;34m(\u001b[0m\u001b[0mself\u001b[0m\u001b[0;34m)\u001b[0m\u001b[0;34m:\u001b[0m\u001b[0;34m\u001b[0m\u001b[0;34m\u001b[0m\u001b[0m\n\u001b[1;32m    383\u001b[0m         \u001b[0;32mif\u001b[0m \u001b[0mself\u001b[0m\u001b[0;34m.\u001b[0m\u001b[0m_exception\u001b[0m\u001b[0;34m:\u001b[0m\u001b[0;34m\u001b[0m\u001b[0;34m\u001b[0m\u001b[0m\n\u001b[0;32m--> 384\u001b[0;31m             \u001b[0;32mraise\u001b[0m \u001b[0mself\u001b[0m\u001b[0;34m.\u001b[0m\u001b[0m_exception\u001b[0m\u001b[0;34m\u001b[0m\u001b[0;34m\u001b[0m\u001b[0m\n\u001b[0m\u001b[1;32m    385\u001b[0m         \u001b[0;32melse\u001b[0m\u001b[0;34m:\u001b[0m\u001b[0;34m\u001b[0m\u001b[0;34m\u001b[0m\u001b[0m\n\u001b[1;32m    386\u001b[0m             \u001b[0;32mreturn\u001b[0m \u001b[0mself\u001b[0m\u001b[0;34m.\u001b[0m\u001b[0m_result\u001b[0m\u001b[0;34m\u001b[0m\u001b[0;34m\u001b[0m\u001b[0m\n",
            "\u001b[0;31mTypeError\u001b[0m: Could not convert non functionalfunctionalfunctionalnon functionalnon functionalnon functionalfunctionalfunctional needs repairnon functionalnon functionalfunctionalnon functionalfunctionalfunctionalfunctionalfunctionalfunctionalfunctional needs repairnon functionalfunctional needs repairfunctionalnon functionalfunctionalfunctionalnon functionalnon functionalnon functionalfunctional needs repairnon functionalnon functionalfunctionalfunctionalfunctionalfunctionalfunctionalnon functionalnon functionalnon functionalfunctionalfunctionalfunctionalnon functionalfunctionalfunctionalfunctionalfunctionalfunctionalnon functionalfunctionalfunctionalfunctionalnon functionalfunctionalnon functionalfunctionalfunctionalfunctionalnon functionalfunctionalfunctionalnon functionalfunctional needs repairfunctional needs repairfunctionalnon functionalfunctionalfunctionalnon functionalfunctionalnon functionalnon functionalnon functionalfunctional needs repairfunctionalnon functionalfunctional needs repairfunctionalfunctionalnon functionalfunctionalnon functionalfunctionalnon functionalnon functionalfunctionalfunctionalnon functionalfunctionalfunctionalfunctionalfunctionalnon functionalfunctionalnon functionalfunctionalnon functionalfunctionalfunctional needs repairfunctionalfunctionalfunctionalfunctionalnon functionalfunctionalfunctionalfunctionalnon functionalfunctional needs repairfunctionalnon functionalnon functionalnon functionalfunctionalnon functionalnon functionalf..."
          ]
        }
      ]
    },
    {
      "cell_type": "code",
      "metadata": {
        "id": "HpD-AeDiiBzH",
        "colab_type": "code",
        "colab": {
          "base_uri": "https://localhost:8080/",
          "height": 163
        },
        "outputId": "d9cba40e-08db-4a0b-c270-3758a8452f8a"
      },
      "source": [
        "pipeline = search.best_estimator_"
      ],
      "execution_count": 68,
      "outputs": [
        {
          "output_type": "error",
          "ename": "AttributeError",
          "evalue": "ignored",
          "traceback": [
            "\u001b[0;31m---------------------------------------------------------------------------\u001b[0m",
            "\u001b[0;31mAttributeError\u001b[0m                            Traceback (most recent call last)",
            "\u001b[0;32m<ipython-input-68-326d7e85ff2c>\u001b[0m in \u001b[0;36m<module>\u001b[0;34m()\u001b[0m\n\u001b[0;32m----> 1\u001b[0;31m \u001b[0mpipeline\u001b[0m \u001b[0;34m=\u001b[0m \u001b[0msearch\u001b[0m\u001b[0;34m.\u001b[0m\u001b[0mbest_estimator_\u001b[0m\u001b[0;34m\u001b[0m\u001b[0;34m\u001b[0m\u001b[0m\n\u001b[0m",
            "\u001b[0;31mAttributeError\u001b[0m: 'RandomizedSearchCV' object has no attribute 'best_estimator_'"
          ]
        }
      ]
    },
    {
      "cell_type": "code",
      "metadata": {
        "id": "_TjIeG1ohgm4",
        "colab_type": "code",
        "colab": {
          "base_uri": "https://localhost:8080/",
          "height": 180
        },
        "outputId": "b5c8956d-8144-4670-b656-a3c262fbf1c8"
      },
      "source": [
        "X_test = wrangle(test)\n",
        "y_pred = pipeline.predict(X_test)"
      ],
      "execution_count": 71,
      "outputs": [
        {
          "output_type": "error",
          "ename": "NameError",
          "evalue": "ignored",
          "traceback": [
            "\u001b[0;31m---------------------------------------------------------------------------\u001b[0m",
            "\u001b[0;31mNameError\u001b[0m                                 Traceback (most recent call last)",
            "\u001b[0;32m<ipython-input-71-c06dd63c89ce>\u001b[0m in \u001b[0;36m<module>\u001b[0;34m()\u001b[0m\n\u001b[1;32m      1\u001b[0m \u001b[0mX_test\u001b[0m \u001b[0;34m=\u001b[0m \u001b[0mwrangle\u001b[0m\u001b[0;34m(\u001b[0m\u001b[0mtest\u001b[0m\u001b[0;34m)\u001b[0m\u001b[0;34m\u001b[0m\u001b[0;34m\u001b[0m\u001b[0m\n\u001b[0;32m----> 2\u001b[0;31m \u001b[0my_pred\u001b[0m \u001b[0;34m=\u001b[0m \u001b[0mpipeline\u001b[0m\u001b[0;34m.\u001b[0m\u001b[0mpredict\u001b[0m\u001b[0;34m(\u001b[0m\u001b[0mX_test\u001b[0m\u001b[0;34m)\u001b[0m\u001b[0;34m\u001b[0m\u001b[0;34m\u001b[0m\u001b[0m\n\u001b[0m",
            "\u001b[0;31mNameError\u001b[0m: name 'pipeline' is not defined"
          ]
        }
      ]
    },
    {
      "cell_type": "code",
      "metadata": {
        "id": "AYM46vOeiMBe",
        "colab_type": "code",
        "colab": {
          "base_uri": "https://localhost:8080/",
          "height": 197
        },
        "outputId": "50d2c7b4-cd08-4d7b-8192-b946d1ac8e8b"
      },
      "source": [
        "submission = sample_submission.copy()\n",
        "submission['status_group'] = y_pred\n",
        "submission.to_csv('../../sub-01.csv', index=False)"
      ],
      "execution_count": 70,
      "outputs": [
        {
          "output_type": "error",
          "ename": "NameError",
          "evalue": "ignored",
          "traceback": [
            "\u001b[0;31m---------------------------------------------------------------------------\u001b[0m",
            "\u001b[0;31mNameError\u001b[0m                                 Traceback (most recent call last)",
            "\u001b[0;32m<ipython-input-70-240bf5cae1f5>\u001b[0m in \u001b[0;36m<module>\u001b[0;34m()\u001b[0m\n\u001b[1;32m      1\u001b[0m \u001b[0msubmission\u001b[0m \u001b[0;34m=\u001b[0m \u001b[0msample_submission\u001b[0m\u001b[0;34m.\u001b[0m\u001b[0mcopy\u001b[0m\u001b[0;34m(\u001b[0m\u001b[0;34m)\u001b[0m\u001b[0;34m\u001b[0m\u001b[0;34m\u001b[0m\u001b[0m\n\u001b[0;32m----> 2\u001b[0;31m \u001b[0msubmission\u001b[0m\u001b[0;34m[\u001b[0m\u001b[0;34m'status_group'\u001b[0m\u001b[0;34m]\u001b[0m \u001b[0;34m=\u001b[0m \u001b[0my_pred\u001b[0m\u001b[0;34m\u001b[0m\u001b[0;34m\u001b[0m\u001b[0m\n\u001b[0m\u001b[1;32m      3\u001b[0m \u001b[0msubmission\u001b[0m\u001b[0;34m.\u001b[0m\u001b[0mto_csv\u001b[0m\u001b[0;34m(\u001b[0m\u001b[0;34m'../../sub-01.csv'\u001b[0m\u001b[0;34m,\u001b[0m \u001b[0mindex\u001b[0m\u001b[0;34m=\u001b[0m\u001b[0;32mFalse\u001b[0m\u001b[0;34m)\u001b[0m\u001b[0;34m\u001b[0m\u001b[0;34m\u001b[0m\u001b[0m\n",
            "\u001b[0;31mNameError\u001b[0m: name 'y_pred' is not defined"
          ]
        }
      ]
    }
  ]
}